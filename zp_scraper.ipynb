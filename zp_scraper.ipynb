{
  "nbformat": 4,
  "nbformat_minor": 0,
  "metadata": {
    "colab": {
      "provenance": [],
      "authorship_tag": "ABX9TyPomAUH1ZxzRz5ByTW2kpTU",
      "include_colab_link": true
    },
    "kernelspec": {
      "name": "python3",
      "display_name": "Python 3"
    },
    "language_info": {
      "name": "python"
    }
  },
  "cells": [
    {
      "cell_type": "markdown",
      "metadata": {
        "id": "view-in-github",
        "colab_type": "text"
      },
      "source": [
        "<a href=\"https://colab.research.google.com/github/mbalbi/zonaprop_scraper/blob/master/zp_scraper.ipynb\" target=\"_parent\"><img src=\"https://colab.research.google.com/assets/colab-badge.svg\" alt=\"Open In Colab\"/></a>"
      ]
    },
    {
      "cell_type": "code",
      "source": [
        "# Import Python Libraries\n",
        "# For HTML parsing\n",
        "from bs4 import BeautifulSoup\n",
        "# For website connections\n",
        "import requests\n",
        "# To prevent overwhelming the server between connections\n",
        "from time import sleep\n",
        "\n",
        "# Display the progress bar\n",
        "from tqdm import tqdm\n",
        "# For data wrangling\n",
        "import numpy as np\n",
        "import pandas as pd\n",
        "pd.set_option('display.max_columns', 500)\n",
        "pd.set_option('display.width', 1000)\n",
        "# For creating plots\n",
        "import matplotlib.pyplot as plt\n",
        "import plotly.graph_objects as go\n"
      ],
      "metadata": {
        "id": "3heSRyD5-ovp"
      },
      "execution_count": 1,
      "outputs": []
    },
    {
      "cell_type": "code",
      "execution_count": 3,
      "metadata": {
        "colab": {
          "base_uri": "https://localhost:8080/",
          "height": 364
        },
        "id": "9sPTkWih-c4s",
        "outputId": "4d1356fa-47bc-4625-bdcd-4572e372c3ce"
      },
      "outputs": [
        {
          "output_type": "stream",
          "name": "stdout",
          "text": [
            "Client error\n"
          ]
        },
        {
          "output_type": "error",
          "ename": "UnboundLocalError",
          "evalue": "ignored",
          "traceback": [
            "\u001b[0;31m---------------------------------------------------------------------------\u001b[0m",
            "\u001b[0;31mUnboundLocalError\u001b[0m                         Traceback (most recent call last)",
            "\u001b[0;32m<ipython-input-3-104f04a9d9c3>\u001b[0m in \u001b[0;36m<cell line: 45>\u001b[0;34m()\u001b[0m\n\u001b[1;32m     43\u001b[0m     \u001b[0;32mreturn\u001b[0m \u001b[0msoup\u001b[0m\u001b[0;34m\u001b[0m\u001b[0;34m\u001b[0m\u001b[0m\n\u001b[1;32m     44\u001b[0m \u001b[0;34m\u001b[0m\u001b[0m\n\u001b[0;32m---> 45\u001b[0;31m \u001b[0msoup_page\u001b[0m \u001b[0;34m=\u001b[0m \u001b[0mget_page\u001b[0m\u001b[0;34m(\u001b[0m\u001b[0;34m'toronto'\u001b[0m\u001b[0;34m,\u001b[0m \u001b[0;34m'condos'\u001b[0m\u001b[0;34m,\u001b[0m \u001b[0;34m'1'\u001b[0m\u001b[0;34m,\u001b[0m \u001b[0;36m1\u001b[0m\u001b[0;34m)\u001b[0m\u001b[0;34m\u001b[0m\u001b[0;34m\u001b[0m\u001b[0m\n\u001b[0m",
            "\u001b[0;32m<ipython-input-3-104f04a9d9c3>\u001b[0m in \u001b[0;36mget_page\u001b[0;34m(city, type, beds, page)\u001b[0m\n\u001b[1;32m     41\u001b[0m         \u001b[0mprint\u001b[0m\u001b[0;34m(\u001b[0m\u001b[0;34m'Server error'\u001b[0m\u001b[0;34m)\u001b[0m\u001b[0;34m\u001b[0m\u001b[0;34m\u001b[0m\u001b[0m\n\u001b[1;32m     42\u001b[0m \u001b[0;34m\u001b[0m\u001b[0m\n\u001b[0;32m---> 43\u001b[0;31m     \u001b[0;32mreturn\u001b[0m \u001b[0msoup\u001b[0m\u001b[0;34m\u001b[0m\u001b[0;34m\u001b[0m\u001b[0m\n\u001b[0m\u001b[1;32m     44\u001b[0m \u001b[0;34m\u001b[0m\u001b[0m\n\u001b[1;32m     45\u001b[0m \u001b[0msoup_page\u001b[0m \u001b[0;34m=\u001b[0m \u001b[0mget_page\u001b[0m\u001b[0;34m(\u001b[0m\u001b[0;34m'toronto'\u001b[0m\u001b[0;34m,\u001b[0m \u001b[0;34m'condos'\u001b[0m\u001b[0;34m,\u001b[0m \u001b[0;34m'1'\u001b[0m\u001b[0;34m,\u001b[0m \u001b[0;36m1\u001b[0m\u001b[0;34m)\u001b[0m\u001b[0;34m\u001b[0m\u001b[0;34m\u001b[0m\u001b[0m\n",
            "\u001b[0;31mUnboundLocalError\u001b[0m: local variable 'soup' referenced before assignment"
          ]
        }
      ],
      "source": [
        "def get_headers():\n",
        "    #Headers\n",
        "    headers={'authority':'www.zonaprop.com.ar',\n",
        "        'accept':'text/html,application/xhtml+xml,application/xml;q=0.9,image/avif,image/webp,image/apng,*/*;q=0.8,application/signed-exchange;v=b3;q=0.7',\n",
        "            'accept-language':'es-ES,es;q=0.9,en;q=0.8,gl;q=0.7',\n",
        "            'cache-control':'max-age=0',\n",
        "            'sec-ch-ua':'\"Chromium\";v=\"118\", \"Google Chrome\";v=\"118\", \"Not=A?Brand\";v=\"99\"',\n",
        "            'sec-ch-ua-mobile':'?0',\n",
        "            'sec-ch-ua-platform':'\"macOS\"',\n",
        "            'sec-fetch-dest':'document',\n",
        "            'sec-fetch-mode':'navigate',\n",
        "            'sec-fetch-site':'cross-site',\n",
        "            'sec-fetch-user':'?1',\n",
        "            'upgrade-insecure-requests':'1',\n",
        "            'user-agent':'Mozilla/5.0 (Macintosh; Intel Mac OS X 10_15_7) AppleWebKit/537.36 (KHTML, like Gecko) Chrome/118.0.0.0 Safari/537.36'}\n",
        "\n",
        "    return headers\n",
        "\n",
        "def get_page(city, type, beds, page):\n",
        "\n",
        "    # url = f'https://www.torontorentals.com/{city}/{type}?beds={beds}%20&p={page}'\n",
        "    # https://www.torontorentals.com/toronto/condos?beds=1%20&p=2\n",
        "    url = f'https://www.zonaprop.com.ar/departamentos-alquiler-capital-federal.html'\n",
        "\n",
        "    # headers = {\n",
        "    # 'User-Agent': 'Mozilla/5.0 (Windows NT 10.0; Win64; x64) AppleWebKit/537.36 (KHTML, like Gecko) Chrome/109.0.0.0 Safari/537.36',  }\n",
        "\n",
        "    result = requests.get(url, headers=get_headers())\n",
        "\n",
        "    # check HTTP response status codes to find if HTTP request has been successfully completed\n",
        "    if result.status_code >= 100  and result.status_code <= 199:\n",
        "        print('Informational response')\n",
        "    if result.status_code >= 200  and result.status_code <= 299:\n",
        "        print('Successful response')\n",
        "        soup = BeautifulSoup(result.content, \"lxml\")\n",
        "    if result.status_code >= 300  and result.status_code <= 399:\n",
        "        print('Redirect')\n",
        "    if result.status_code >= 400  and result.status_code <= 499:\n",
        "        print('Client error')\n",
        "    if result.status_code >= 500  and result.status_code <= 599:\n",
        "        print('Server error')\n",
        "\n",
        "    return soup\n",
        "\n",
        "soup_page = get_page('toronto', 'condos', '1', 1)\n"
      ]
    }
  ]
}